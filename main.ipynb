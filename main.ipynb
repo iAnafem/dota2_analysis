{
 "cells": [
  {
   "cell_type": "markdown",
   "id": "3ba3feca",
   "metadata": {},
   "source": [
    "### Stage 2. Data preparation.\n",
    "\n",
    "To prepare data I will use Pandas and Numpy libraries."
   ]
  },
  {
   "cell_type": "code",
   "execution_count": 1,
   "id": "623489bf",
   "metadata": {},
   "outputs": [],
   "source": [
    "import pandas as pd\n",
    "import numpy as np"
   ]
  },
  {
   "cell_type": "markdown",
   "id": "372cd246",
   "metadata": {},
   "source": [
    "For further analysis, we will need the next datasets: \n",
    "1. match.csv\n",
    "2. players.csv\n",
    "3. hero_names.csv\n",
    "\n",
    "Create DataFrames from these datasets"
   ]
  },
  {
   "cell_type": "code",
   "execution_count": 2,
   "id": "b5091351",
   "metadata": {},
   "outputs": [],
   "source": [
    "match_df = pd.read_csv(\"match.csv\")\n",
    "players_df = pd.read_csv(\"players.csv\")\n",
    "hero_names_df = pd.read_csv(\"hero_names.csv\")"
   ]
  },
  {
   "cell_type": "markdown",
   "id": "26206668",
   "metadata": {},
   "source": [
    "To analyse the data I can use only the Pandas library and its syntaxis. But one of the conditions of our task is to use not only Python, but also SQL. For this purpose I will create a serverless database using built-in sqlite3 module and subsequently will convert our prepared DataFrames to database tables."
   ]
  },
  {
   "cell_type": "code",
   "execution_count": 3,
   "id": "a9b48238",
   "metadata": {},
   "outputs": [],
   "source": [
    "import sqlite3\n",
    "\n",
    "def create_connection(db_file: str) -> sqlite3.connect:\n",
    "    \"\"\" create a database connection to a SQLite database \"\"\"\n",
    "    conn = None\n",
    "    try:\n",
    "        conn = sqlite3.connect(db_file)\n",
    "        return conn\n",
    "    except sqlite3.Error as e:\n",
    "        print(e)"
   ]
  },
  {
   "cell_type": "markdown",
   "id": "d42185e3",
   "metadata": {},
   "source": [
    "##### match_df preparation.\n",
    "I want to examine the next indicators using only the match_df:\n",
    "- how often had won a team which had Megacreeps (in percents);\n",
    "- which percentage of games were won by destroying the only one lane (in percents);\n",
    "\n",
    "For there purposes, we need to interpret barracks_status column in the appropriate way\n",
    "\n",
    "(IMPORTANT: see docs about these columns here https://wiki.teamfortress.com/wiki/WebAPI/GetMatchDetails#Barracks%20Status)\n",
    "\n",
    "Reinforced creeps are creeps with increased amount of health and damage. A team has the reinforced creeps on a particular lane if all the defence towers and all the barracks of the enemy team on this lane were destroyed. You cannot attack tier2 tower before you destroyed tier1 tower and so on. \n",
    "\n",
    "Megacreeps are hightly reinforced creeps with huge amount of health and damage. A team has the Megacreeps if all the barracks of the enemy team were destroyed.\n",
    "\n",
    "In the code below, we will convert integers from  the \"_status_\" columns to its binary representation and\n",
    "add appropriate columns which will be show us \"Megacreeps\"  and \"naked\" Ancient status."
   ]
  },
  {
   "cell_type": "code",
   "execution_count": 4,
   "id": "1d6a72fc",
   "metadata": {},
   "outputs": [],
   "source": [
    "# Let's define several service functions\n",
    "\n",
    "import typing as tp\n",
    "from enum import Enum\n",
    "\n",
    "\n",
    "class Lanes(Enum):\n",
    "    top = 0\n",
    "    middle = 1\n",
    "    bottom = 2\n",
    "    \n",
    "\n",
    "def int_to_binary(number: int) -> str:\n",
    "    return format(number, \"b\")\n",
    "\n",
    "\n",
    "def get_line_barracks_status(number: int, lane: int) -> int:\n",
    "    # There are two barracks on the same line, \n",
    "    # and they are represented by pairs of bits, starting with the least significant bit\n",
    "    n = 2\n",
    "    number = number >> n * lane\n",
    "    binary_repr = int_to_binary(number=number)\n",
    "    if int(binary_repr[-n:]) == 0:\n",
    "        return 0\n",
    "    return 1\n",
    "\n",
    "def has_megacreeps(row: pd.DataFrame, enemy_team: str) -> bool:\n",
    "    return not any([row[f\"{lane.name}_lane_status_{enemy_team}\"] for lane in Lanes])"
   ]
  },
  {
   "cell_type": "code",
   "execution_count": 5,
   "id": "b14753fa",
   "metadata": {},
   "outputs": [],
   "source": [
    "# Now, we can add new columns to match_df\n",
    "\n",
    "barracks_status = \"barracks_status\"\n",
    "\n",
    "for team in (\"dire\", \"radiant\"):\n",
    "    init_col = f\"{barracks_status}_{team}\"\n",
    "    for lane in Lanes:\n",
    "        result_col = f\"{lane.name}_lane_status_{team}\"\n",
    "        match_df[result_col] = match_df[init_col].apply(\n",
    "            lambda number: get_line_barracks_status(number=number, lane=lane.value)\n",
    "        )\n",
    "        \n",
    "    # we don't need old barracks_status col anymore\n",
    "    del match_df[init_col]\n",
    "    \n",
    "# Let's add \"megacreeps\" columns for convenience\n",
    "match_df[f\"m_creeps_dire\"] = match_df.apply(lambda row: has_megacreeps(row=row, enemy_team=\"radiant\"), axis=1)\n",
    "match_df[f\"m_creeps_radiant\"] = match_df.apply(lambda row: has_megacreeps(row=row, enemy_team=\"dire\"), axis=1)  \n",
    "\n",
    "# match_df prepared and we can store it into our database\n",
    "conn = create_connection(\"./dota.db\")\n",
    "match_df.to_sql(\"match\", conn, if_exists=\"replace\", index=None)\n",
    "\n",
    "conn.close()"
   ]
  },
  {
   "cell_type": "markdown",
   "id": "2e599427",
   "metadata": {},
   "source": [
    "CREATE TABLE \"match\" (  \n",
    "&nbsp;&nbsp;&nbsp;&nbsp;\"match_id\" INTEGER,  \n",
    "&nbsp;&nbsp;&nbsp;&nbsp;\"start_time\" INTEGER,  \n",
    "&nbsp;&nbsp;&nbsp;&nbsp;\"duration\" INTEGER,  \n",
    "&nbsp;&nbsp;&nbsp;&nbsp;\"tower_status_radiant\" INTEGER,  \n",
    "&nbsp;&nbsp;&nbsp;&nbsp;\"tower_status_dire\" INTEGER,  \n",
    "&nbsp;&nbsp;&nbsp;&nbsp;\"first_blood_time\" INTEGER,  \n",
    "&nbsp;&nbsp;&nbsp;&nbsp;\"game_mode\" INTEGER,  \n",
    "&nbsp;&nbsp;&nbsp;&nbsp;\"radiant_win\" INTEGER,  \n",
    "&nbsp;&nbsp;&nbsp;&nbsp;\"negative_votes\" INTEGER,  \n",
    "&nbsp;&nbsp;&nbsp;&nbsp;\"positive_votes\" INTEGER,  \n",
    "&nbsp;&nbsp;&nbsp;&nbsp;\"cluster\" INTEGER,  \n",
    "&nbsp;&nbsp;&nbsp;&nbsp;\"top_lane_status_dire\" INTEGER,  \n",
    "&nbsp;&nbsp;&nbsp;&nbsp;\"middle_lane_status_dire\" INTEGER,  \n",
    "&nbsp;&nbsp;&nbsp;&nbsp;\"bottom_lane_status_dire\" INTEGER,  \n",
    "&nbsp;&nbsp;&nbsp;&nbsp;\"top_lane_status_radiant\" INTEGER,  \n",
    "&nbsp;&nbsp;&nbsp;&nbsp;\"middle_lane_status_radiant\" INTEGER,  \n",
    "&nbsp;&nbsp;&nbsp;&nbsp;\"bottom_lane_status_radiant\" INTEGER,  \n",
    "&nbsp;&nbsp;&nbsp;&nbsp;\"m_creeps_dire\" INTEGER,  \n",
    "&nbsp;&nbsp;&nbsp;&nbsp;\"m_creeps_radiant\" INTEGER  \n",
    ")"
   ]
  },
  {
   "cell_type": "markdown",
   "id": "dea84cff",
   "metadata": {},
   "source": [
    "##### players_df preparation.\n",
    "I want to examine the next indicators using the players_df and match_df:\n",
    "- top ten most popular heroes;\n",
    "- top ten heroes with the hightest winrate;\n",
    "- top ten heroes with the lowest winrate;\n",
    "- top ten killers (heroes);\n",
    "- top ten \"suicide bomber\" (heroes);\n",
    "- top ten \"gold diggers\" (heroes);\n",
    "\n",
    "Players dataset info:\n",
    "individual players are identified by account_id but there is an option to play anonymously and roughly one third of the account_id are not available. Anonymous users have the value of 0 for account_id. Contains totals for kills, deaths, denies, etc. Player action counts are available, and are indicated by variable names beginning with unit_order_. Counts for reasons for acquiring or losing gold, and gaining experience, have prefixes gold_, and xp_.\n",
    "\n",
    "During the preparation on players_df, I will:\n",
    "- replace \"player_slot\" (int) column with a \"radiant\" (int) column with 1/0 values;\n",
    "- replace None (Text) values in \"stuns\" column with 0.0, and convert column type to float;\n",
    "- delete unusing columns, such as unit_ liker columns, etc."
   ]
  },
  {
   "cell_type": "code",
   "execution_count": 6,
   "id": "61982549",
   "metadata": {},
   "outputs": [],
   "source": [
    "def is_radiant(number: int) -> int:\n",
    "    if 0 <= number < 5:\n",
    "        radiant = 1\n",
    "    else:\n",
    "        radiant = 0\n",
    "    return radiant\n",
    "\n",
    "players_df[\"radiant\"] = players_df.player_slot.apply(is_radiant)\n",
    "\n",
    "players_df.loc[(players_df[\"stuns\"] == \"None\"), \"stuns\"] = \"0.0\"\n",
    "players_df[\"stuns\"] = players_df[\"stuns\"].astype(float)\n",
    "\n",
    "columns_to_delete = [\n",
    "    col for col in players_df.columns.values \n",
    "    if col.startswith((\"unit_\", \"gold_\", \"item_\", \"xp_\")) and col != \"gold_per_min\"\n",
    "]\n",
    "\n",
    "for col in columns_to_delete:\n",
    "    del players_df[col]\n",
    "\n",
    "# players_df prepared and we can store it into our database\n",
    "conn = create_connection(\"./dota.db\")\n",
    "players_df.to_sql(\"players\", conn, if_exists=\"replace\", index=None)\n",
    "\n",
    "# also, let's create hero_names table. Dataset for this table does not need any preparation\n",
    "hero_names_df.to_sql(\"heroes\", conn, if_exists=\"replace\", index=None)\n",
    "\n",
    "conn.close()"
   ]
  },
  {
   "cell_type": "markdown",
   "id": "5f3056ae",
   "metadata": {},
   "source": [
    "CREATE TABLE \"players\" (  \n",
    "&nbsp;&nbsp;&nbsp;&nbsp;\"match_id\" INTEGER,  \n",
    "&nbsp;&nbsp;&nbsp;&nbsp;\"account_id\" INTEGER,  \n",
    "&nbsp;&nbsp;&nbsp;&nbsp;\"hero_id\" INTEGER,  \n",
    "&nbsp;&nbsp;&nbsp;&nbsp;\"player_slot\" INTEGER,  \n",
    "&nbsp;&nbsp;&nbsp;&nbsp;\"gold\" INTEGER,  \n",
    "&nbsp;&nbsp;&nbsp;&nbsp;\"gold_per_min\" INTEGER,  \n",
    "&nbsp;&nbsp;&nbsp;&nbsp;\"kills\" INTEGER,  \n",
    "&nbsp;&nbsp;&nbsp;&nbsp;\"deaths\" INTEGER,  \n",
    "&nbsp;&nbsp;&nbsp;&nbsp;\"assists\" INTEGER,  \n",
    "&nbsp;&nbsp;&nbsp;&nbsp;\"denies\" INTEGER,  \n",
    "&nbsp;&nbsp;&nbsp;&nbsp;\"last_hits\" INTEGER,  \n",
    "&nbsp;&nbsp;&nbsp;&nbsp;\"stuns\" REAL,\n",
    "&nbsp;&nbsp;&nbsp;&nbsp;\"hero_damage\" INTEGER,  \n",
    "&nbsp;&nbsp;&nbsp;&nbsp;\"hero_healing\" INTEGER,  \n",
    "&nbsp;&nbsp;&nbsp;&nbsp;\"tower_damage\" INTEGER,  \n",
    "&nbsp;&nbsp;&nbsp;&nbsp;\"level\" INTEGER,  \n",
    "&nbsp;&nbsp;&nbsp;&nbsp;\"leaver_status\" INTEGER,  \n",
    "&nbsp;&nbsp;&nbsp;&nbsp;\"radiant\" INTEGER  \n",
    ")  \n",
    "  \n",
    "CREATE TABLE \"heroes\" (  \n",
    "&nbsp;&nbsp;&nbsp;&nbsp;\"name\" TEXT,  \n",
    "&nbsp;&nbsp;&nbsp;&nbsp;\"hero_id\" INTEGER,  \n",
    "&nbsp;&nbsp;&nbsp;&nbsp;\"localized_name\" TEXT  \n",
    ")  "
   ]
  },
  {
   "cell_type": "markdown",
   "id": "3ffbe6b7",
   "metadata": {},
   "source": [
    "### Stage 3. Metrics Calculation\n",
    "\n",
    "##### Part 1. Lanes analysis"
   ]
  },
  {
   "cell_type": "markdown",
   "id": "00d855c4",
   "metadata": {},
   "source": [
    "1. Let's see how often a team wins if they have megacreeps"
   ]
  },
  {
   "cell_type": "code",
   "execution_count": 7,
   "id": "c34dde0a",
   "metadata": {},
   "outputs": [
    {
     "name": "stdout",
     "output_type": "stream",
     "text": [
      "   radiant_wins_percent  dire_wins_percent\n",
      "0                    99                 99\n"
     ]
    }
   ],
   "source": [
    "m_creeps_winrate_query = \"\"\"\n",
    "WITH results AS (\n",
    "    SELECT SUM(CASE radiant.result WHEN 1 THEN radiant.qty ELSE 0 END) AS radiant_wins\n",
    "         , SUM(CASE radiant.result WHEN 0 THEN radiant.qty ELSE 0 END) AS radiant_losts\n",
    "         , SUM(CASE dire.result WHEN 1 THEN dire.qty ELSE 0 END)       AS dire_wins\n",
    "         , SUM(CASE dire.result WHEN 0 THEN dire.qty ELSE 0 END)       AS dire_losts\n",
    "    FROM (SELECT radiant_win AS result\n",
    "               , count(*)    AS qty\n",
    "          FROM match\n",
    "          WHERE m_creeps_radiant = 1\n",
    "          GROUP BY radiant_win) AS radiant\n",
    "             JOIN\n",
    "         (SELECT CASE radiant_win WHEN 1 THEN 0 ELSE 1 END AS result\n",
    "               , count(*)                                  AS qty\n",
    "          FROM match\n",
    "          WHERE m_creeps_dire = 1\n",
    "          GROUP BY radiant_win) AS dire\n",
    "         ON radiant.result = dire.result)\n",
    "SELECT (radiant_wins * 100) / (radiant_wins + radiant_losts) AS radiant_wins_percent\n",
    "     , (dire_wins * 100) / (dire_wins + dire_losts)          AS dire_wins_percent\n",
    "FROM results\n",
    "\"\"\"\n",
    "\n",
    "conn = create_connection(\"./dota.db\")\n",
    "m_creeps_winrate = pd.read_sql_query(m_creeps_winrate_query, conn)\n",
    "print(m_creeps_winrate)"
   ]
  },
  {
   "cell_type": "markdown",
   "id": "3e3b58b0",
   "metadata": {},
   "source": [
    "As we can see, a radiant team as well as a dire team wins with megacreeps in 99% cases."
   ]
  },
  {
   "cell_type": "markdown",
   "id": "83089a53",
   "metadata": {},
   "source": [
    "2. Nomination \"Have won middle - have won the game\".\n",
    "\n",
    "Middle lane is the shortest and the most important lane in Dota2.\n",
    "In this section we will calculate a percent of games where a winner have destroyed \n",
    "only the middle lane buildings and have won a game. "
   ]
  },
  {
   "cell_type": "code",
   "execution_count": 8,
   "id": "430656ff",
   "metadata": {},
   "outputs": [
    {
     "name": "stdout",
     "output_type": "stream",
     "text": [
      "   win_rate\n",
      "0        61\n"
     ]
    }
   ],
   "source": [
    "mid_lane_winrate_query = \"\"\"\n",
    "SELECT SUM(res.win_qty) * 100 / SUM(res.total_qty) AS win_rate\n",
    "FROM (SELECT SUM(radiant_win) AS win_qty\n",
    "           , COUNT(*)         AS total_qty\n",
    "      FROM match\n",
    "      WHERE middle_lane_status_dire = 0\n",
    "        and bottom_lane_status_dire = 1\n",
    "        and top_lane_status_dire = 1\n",
    "      UNION ALL\n",
    "      SELECT SUM(CASE radiant_win WHEN 1 THEN 0 ELSE 1 END) AS win_qty\n",
    "           , COUNT(*)                                       AS total_qty\n",
    "      FROM match\n",
    "      WHERE middle_lane_status_radiant = 0\n",
    "        and bottom_lane_status_radiant = 1\n",
    "        and top_lane_status_radiant = 1) AS res;\n",
    "\"\"\"\n",
    "mid_lane_winrate = pd.read_sql_query(mid_lane_winrate_query, conn)\n",
    "print(mid_lane_winrate)"
   ]
  },
  {
   "cell_type": "markdown",
   "id": "81f5a33a",
   "metadata": {},
   "source": [
    "Wow! 61% of all the games ended throught the only one middle lane! Quite interesting, isn't it?\n",
    "Let's check other two lanes by the same way"
   ]
  },
  {
   "cell_type": "code",
   "execution_count": 9,
   "id": "eea01006",
   "metadata": {},
   "outputs": [
    {
     "name": "stdout",
     "output_type": "stream",
     "text": [
      "\n",
      "SELECT SUM(res.win_qty) * 100 / SUM(res.total_qty) AS win_rate\n",
      "FROM (SELECT SUM(radiant_win) AS win_qty\n",
      "           , COUNT(*)         AS total_qty\n",
      "      FROM match\n",
      "      WHERE middle_lane_status_dire = 1\n",
      "        and bottom_lane_status_dire = 1\n",
      "        and top_lane_status_dire = 0\n",
      "      UNION ALL\n",
      "      SELECT SUM(CASE radiant_win WHEN 1 THEN 0 ELSE 1 END) AS win_qty\n",
      "           , COUNT(*)                                       AS total_qty\n",
      "      FROM match\n",
      "      WHERE middle_lane_status_radiant = 1\n",
      "        and bottom_lane_status_radiant = 1\n",
      "        and top_lane_status_radiant = 0) AS res;\n",
      "\n",
      "   win_rate\n",
      "0        19\n"
     ]
    }
   ],
   "source": [
    "# Top lane\n",
    "\n",
    "top_lane_winrate_query = mid_lane_winrate_query.replace(\n",
    "    \"middle_lane_status_dire = 0\", \"middle_lane_status_dire = 1\"\n",
    ").replace(\n",
    "    \"top_lane_status_dire = 1\", \"top_lane_status_dire = 0\"\n",
    ").replace(\n",
    "    \"middle_lane_status_radiant = 0\", \"middle_lane_status_radiant = 1\"\n",
    ").replace(\n",
    "    \"top_lane_status_radiant = 1\", \"top_lane_status_radiant = 0\"\n",
    ")\n",
    "print(top_lane_winrate_query)\n",
    "\n",
    "top_lane_winrate = pd.read_sql_query(top_lane_winrate_query, conn)\n",
    "\n",
    "print(top_lane_winrate)"
   ]
  },
  {
   "cell_type": "markdown",
   "id": "1fd766d6",
   "metadata": {},
   "source": [
    "Only 19%. It is a big difference."
   ]
  },
  {
   "cell_type": "code",
   "execution_count": 10,
   "id": "9635b5f0",
   "metadata": {},
   "outputs": [
    {
     "name": "stdout",
     "output_type": "stream",
     "text": [
      "\n",
      "SELECT SUM(res.win_qty) * 100 / SUM(res.total_qty) AS win_rate\n",
      "FROM (SELECT SUM(radiant_win) AS win_qty\n",
      "           , COUNT(*)         AS total_qty\n",
      "      FROM match\n",
      "      WHERE middle_lane_status_dire = 1\n",
      "        and bottom_lane_status_dire = 0\n",
      "        and top_lane_status_dire = 1\n",
      "      UNION ALL\n",
      "      SELECT SUM(CASE radiant_win WHEN 1 THEN 0 ELSE 1 END) AS win_qty\n",
      "           , COUNT(*)                                       AS total_qty\n",
      "      FROM match\n",
      "      WHERE middle_lane_status_radiant = 1\n",
      "        and bottom_lane_status_radiant = 0\n",
      "        and top_lane_status_radiant = 1) AS res;\n",
      "\n",
      "   win_rate\n",
      "0        29\n"
     ]
    }
   ],
   "source": [
    "# Bottom lane\n",
    "\n",
    "bottom_lane_winrate_query = top_lane_winrate_query.replace(\n",
    "    \"top_lane_status_dire = 0\", \"top_lane_status_dire = 1\"\n",
    ").replace(\n",
    "    \"bottom_lane_status_dire = 1\", \"bottom_lane_status_dire = 0\"\n",
    ").replace(\n",
    "    \"top_lane_status_radiant = 0\", \"top_lane_status_radiant = 1\"\n",
    ").replace(\n",
    "    \"bottom_lane_status_radiant = 1\", \"bottom_lane_status_radiant = 0\"\n",
    ")\n",
    "print(bottom_lane_winrate_query)\n",
    "\n",
    "bottom_lane_winrate = pd.read_sql_query(bottom_lane_winrate_query, conn)\n",
    "\n",
    "print(bottom_lane_winrate)"
   ]
  },
  {
   "cell_type": "markdown",
   "id": "c841a64b",
   "metadata": {},
   "source": [
    "29%. A bit better, but it is still much less than middle lane result"
   ]
  },
  {
   "cell_type": "markdown",
   "id": "67c38a41",
   "metadata": {},
   "source": [
    "#### Part 2. Heroes analysis\n",
    "\n",
    "###### 1. Top ten most popular heroes"
   ]
  },
  {
   "cell_type": "code",
   "execution_count": 11,
   "id": "779fc11e",
   "metadata": {},
   "outputs": [
    {
     "name": "stdout",
     "output_type": "stream",
     "text": [
      "       hero_name  pick_qty\n",
      "0     Windranger     20881\n",
      "1   Shadow Fiend     17007\n",
      "2        Invoker     11676\n",
      "3    Earthshaker     11323\n",
      "4        Slardar     11181\n",
      "5  Queen of Pain     10590\n",
      "6     Juggernaut     10394\n",
      "7           Tusk     10306\n",
      "8      Alchemist      9823\n",
      "9          Pudge      9447\n"
     ]
    }
   ],
   "source": [
    "most_popular_query = \"\"\"\n",
    "SELECT h.localized_name AS hero_name, COUNT(*) AS pick_qty\n",
    "FROM players AS p\n",
    "JOIN heroes AS h\n",
    "ON p.hero_id = h.hero_id\n",
    "GROUP BY h.localized_name\n",
    "ORDER BY pick_qty DESC\n",
    "LIMIT 10\n",
    "\"\"\"\n",
    "\n",
    "most_popular = pd.read_sql_query(most_popular_query, conn)\n",
    "print(most_popular)"
   ]
  },
  {
   "cell_type": "markdown",
   "id": "da5a9907",
   "metadata": {},
   "source": [
    "###### 2. Top ten heroes with the hightest winrate"
   ]
  },
  {
   "cell_type": "code",
   "execution_count": 12,
   "id": "db9010a8",
   "metadata": {},
   "outputs": [
    {
     "name": "stdout",
     "output_type": "stream",
     "text": [
      "     hero_name  picks_qty  wins_qty  win_rate\n",
      "0   Omniknight       5161      3048        59\n",
      "1      Spectre       6660      3886        58\n",
      "2  Wraith King       7794      4518        57\n",
      "3         Lich       4687      2625        56\n",
      "4    Necrophos       5969      3364        56\n",
      "5         Ursa       4302      2444        56\n",
      "6      Undying       5951      3385        56\n",
      "7      Abaddon       3310      1882        56\n",
      "8         Zeus       4589      2547        55\n",
      "9      Slardar      11181      6254        55\n"
     ]
    }
   ],
   "source": [
    "top_winrate_query = \"\"\"\n",
    "WITH winners AS (\n",
    "    SELECT p.hero_id AS hero_id\n",
    "         , COUNT(*)  AS wins_qty\n",
    "    FROM players AS p\n",
    "    LEFT JOIN match AS m\n",
    "    ON p.match_id = m.match_id\n",
    "    WHERE (p.radiant = 1 AND m.radiant_win = 1)\n",
    "       OR (p.radiant = 0 AND m.radiant_win = 0)\n",
    "    GROUP BY hero_id\n",
    ")\n",
    "SELECT picks.hero_name\n",
    "     , picks.qty                      AS picks_qty\n",
    "     , w.wins_qty                     AS wins_qty\n",
    "     , (w.wins_qty * 100) / picks.qty AS win_rate\n",
    "FROM winners AS w\n",
    "      JOIN\n",
    "     (SELECT h.localized_name AS hero_name\n",
    "           , h.hero_id        AS hero_id\n",
    "           , COUNT(*)         AS qty\n",
    "      FROM players AS p\n",
    "      JOIN heroes AS h\n",
    "      ON p.hero_id = h.hero_id\n",
    "      GROUP BY h.hero_id) AS picks\n",
    "     ON picks.hero_id = w.hero_id\n",
    "ORDER BY win_rate DESC\n",
    "LIMIT 10\n",
    "\"\"\"\n",
    "\n",
    "top_winrate = pd.read_sql_query(top_winrate_query, conn)\n",
    "print(top_winrate)"
   ]
  },
  {
   "cell_type": "markdown",
   "id": "90e106e5",
   "metadata": {},
   "source": [
    "It's interesting, that there is the only one hero in this DataFrame \n",
    "who also was represented in the previous result (the most popular heroes): \n",
    "\n",
    "That hero is Slardar! "
   ]
  },
  {
   "cell_type": "markdown",
   "id": "79335047",
   "metadata": {},
   "source": [
    "###### 3. Top ten heroes with the lowest winrate"
   ]
  },
  {
   "cell_type": "code",
   "execution_count": 13,
   "id": "26785738",
   "metadata": {},
   "outputs": [
    {
     "name": "stdout",
     "output_type": "stream",
     "text": [
      "          hero_name  picks_qty  wins_qty  win_rate\n",
      "0  Nature's Prophet       3344      1357        40\n",
      "1       Enchantress       1016       415        40\n",
      "2      Shadow Demon       1395       569        40\n",
      "3      Storm Spirit       2407      1000        41\n",
      "4       Broodmother       1486       613        41\n",
      "5              Puck       1761       743        42\n",
      "6              Lina       8255      3537        42\n",
      "7               Axe       4601      1999        43\n",
      "8         Morphling       1524       666        43\n",
      "9        Lone Druid        967       419        43\n"
     ]
    }
   ],
   "source": [
    "lowest_winrate_query = top_winrate_query.replace(\"DESC\", \"ASC\")\n",
    "lowest_winrate = pd.read_sql_query(lowest_winrate_query, conn)\n",
    "print(lowest_winrate)"
   ]
  },
  {
   "cell_type": "markdown",
   "id": "8b6144c7",
   "metadata": {},
   "source": [
    "We can see here a quite popular hero - Lina (8255 picks), \n",
    "but at the same time she is the 7th from the bottom by the winrate"
   ]
  },
  {
   "cell_type": "markdown",
   "id": "a5d34be5",
   "metadata": {},
   "source": [
    "###### 4. Top ten killers (AVG kills quantity per match)"
   ]
  },
  {
   "cell_type": "code",
   "execution_count": 14,
   "id": "05b80646",
   "metadata": {},
   "outputs": [
    {
     "name": "stdout",
     "output_type": "stream",
     "text": [
      "          hero_name  kills_per_match\n",
      "0              Riki            12.71\n",
      "1              Ursa            11.71\n",
      "2     Queen of Pain            10.82\n",
      "3  Templar Assassin            10.81\n",
      "4            Huskar            10.72\n",
      "5             Slark            10.60\n",
      "6            Tinker            10.51\n",
      "7      Shadow Fiend            10.30\n",
      "8            Clinkz            10.25\n",
      "9              Zeus            10.03\n"
     ]
    }
   ],
   "source": [
    "top_killers_query = \"\"\"\n",
    "SELECT h.localized_name       AS hero_name\n",
    "     , ROUND(AVG(p.kills), 2) AS kills_per_match\n",
    "FROM players AS p\n",
    "         JOIN heroes AS h\n",
    "              ON p.hero_id = h.hero_id\n",
    "GROUP BY h.hero_id\n",
    "ORDER BY kills_per_match DESC\n",
    "LIMIT 10\n",
    "\"\"\"\n",
    "top_killers = pd.read_sql_query(top_killers_query, conn)\n",
    "print(top_killers)"
   ]
  },
  {
   "cell_type": "markdown",
   "id": "f8ff4eb5",
   "metadata": {},
   "source": [
    "###### 5. Top ten \"suicide bombers\" (AVG deaths quantity per match)"
   ]
  },
  {
   "cell_type": "code",
   "execution_count": 15,
   "id": "ba2b9b93",
   "metadata": {},
   "outputs": [
    {
     "name": "stdout",
     "output_type": "stream",
     "text": [
      "       hero_name  deaths_per_match\n",
      "0        Techies             10.13\n",
      "1         Huskar              9.93\n",
      "2  Shadow Shaman              9.79\n",
      "3          Pudge              9.68\n",
      "4     Venomancer              9.45\n",
      "5          Pugna              9.44\n",
      "6        Leshrac              9.40\n",
      "7            Axe              9.37\n",
      "8   Shadow Demon              9.25\n",
      "9    Bloodseeker              9.19\n"
     ]
    }
   ],
   "source": [
    "top_feeders_query = top_killers_query.replace(\"kills\", \"deaths\")\n",
    "top_feeders = pd.read_sql_query(top_feeders_query, conn)\n",
    "print(top_feeders)"
   ]
  },
  {
   "cell_type": "markdown",
   "id": "2b82dfcb",
   "metadata": {},
   "source": [
    "###### 6. Top ten \"gold diggers\" (AVG gold_per_minute value per match)"
   ]
  },
  {
   "cell_type": "code",
   "execution_count": 16,
   "id": "d679e0f2",
   "metadata": {},
   "outputs": [
    {
     "name": "stdout",
     "output_type": "stream",
     "text": [
      "          hero_name  gold_per_min_per_match\n",
      "0         Alchemist                  709.55\n",
      "1         Anti-Mage                  554.19\n",
      "2      Shadow Fiend                  551.27\n",
      "3  Templar Assassin                  523.58\n",
      "4             Meepo                  522.70\n",
      "5              Luna                  520.49\n",
      "6        Juggernaut                  520.13\n",
      "7        Gyrocopter                  500.29\n",
      "8            Medusa                  497.50\n",
      "9           Spectre                  495.29\n"
     ]
    }
   ],
   "source": [
    "top_gold_diggers_query = top_killers_query.replace(\"kills\", \"gold_per_min\")\n",
    "top_gold_diggers = pd.read_sql_query(top_gold_diggers_query, conn)\n",
    "print(top_gold_diggers)"
   ]
  }
 ],
 "metadata": {
  "kernelspec": {
   "display_name": "Python 3 (ipykernel)",
   "language": "python",
   "name": "python3"
  },
  "language_info": {
   "codemirror_mode": {
    "name": "ipython",
    "version": 3
   },
   "file_extension": ".py",
   "mimetype": "text/x-python",
   "name": "python",
   "nbconvert_exporter": "python",
   "pygments_lexer": "ipython3",
   "version": "3.8.10"
  }
 },
 "nbformat": 4,
 "nbformat_minor": 5
}
